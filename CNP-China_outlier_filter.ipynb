{
 "cells": [
  {
   "cell_type": "code",
   "execution_count": 1,
   "metadata": {},
   "outputs": [
    {
     "name": "stdout",
     "output_type": "stream",
     "text": [
      "Mean: 99.48\n",
      "Standard Deviation: 32.40\n",
      "Lower Bound: 2.27\n",
      "Upper Bound: 196.68\n",
      "Within Range: [ True  True  True  True  True]\n"
     ]
    }
   ],
   "source": [
    "import numpy as np\n",
    "\n",
    "# Example dataset\n",
    "data = np.array([70.98, 63.12, 129.20, 100.23, 133.85])\n",
    "\n",
    "# Calculate mean and standard deviation\n",
    "mean = np.mean(data)\n",
    "std = np.std(data, ddof=1)\n",
    "\n",
    "# Define outlier thresholds (mean ± 3*std)\n",
    "lower_bound = mean - 3 * std\n",
    "upper_bound = mean + 3 * std\n",
    "\n",
    "# Identify values within range\n",
    "within_range = (data >= lower_bound) & (data <= upper_bound)\n",
    "\n",
    "# Output results\n",
    "print(f\"Mean: {mean:.2f}\")\n",
    "print(f\"Standard Deviation: {std:.2f}\")\n",
    "print(f\"Lower Bound: {lower_bound:.2f}\")\n",
    "print(f\"Upper Bound: {upper_bound:.2f}\")\n",
    "print(f\"Within Range: {within_range}\")\n"
   ]
  }
 ],
 "metadata": {
  "kernelspec": {
   "display_name": "Python 3",
   "language": "python",
   "name": "python3"
  },
  "language_info": {
   "codemirror_mode": {
    "name": "ipython",
    "version": 3
   },
   "file_extension": ".py",
   "mimetype": "text/x-python",
   "name": "python",
   "nbconvert_exporter": "python",
   "pygments_lexer": "ipython3",
   "version": "3.7.0"
  }
 },
 "nbformat": 4,
 "nbformat_minor": 2
}
